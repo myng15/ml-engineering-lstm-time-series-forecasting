{
 "cells": [
  {
   "cell_type": "code",
   "execution_count": 3,
   "id": "f5dcefe0-215e-4c67-8dd7-952274b0b481",
   "metadata": {},
   "outputs": [],
   "source": [
    "import requests\n",
    "import json"
   ]
  },
  {
   "cell_type": "markdown",
   "id": "b527795f-b61d-467f-94bc-b86ad7414718",
   "metadata": {},
   "source": [
    "# Local API"
   ]
  },
  {
   "cell_type": "markdown",
   "id": "d79b8fa4-3dcf-4739-8cee-3c4845ce1ab0",
   "metadata": {},
   "source": [
    "# On AWS ECS"
   ]
  },
  {
   "cell_type": "code",
   "execution_count": 16,
   "id": "326576da-4cd6-473b-9816-ea9aaa8b50a7",
   "metadata": {},
   "outputs": [],
   "source": [
    "url = 'http://127.0.0.1:8000/predict'\n",
    "params = {\n",
    "\"n_days\": 12,\n",
    "\"seq_length\": 5,\n",
    "\"hidden_size\": 512,\n",
    "\"n_layers\": 2,\n",
    "\"dropout\": 0.5,\n",
    "\"n_epochs\": 300,\n",
    "}"
   ]
  },
  {
   "cell_type": "code",
   "execution_count": 17,
   "id": "a1cabb87-afaa-4d40-9566-e16d9ed3b7e5",
   "metadata": {
    "scrolled": true
   },
   "outputs": [
    {
     "name": "stdout",
     "output_type": "stream",
     "text": [
      "CPU times: user 9.21 ms, sys: 13.1 ms, total: 22.4 ms\n",
      "Wall time: 58.7 s\n"
     ]
    }
   ],
   "source": [
    "%time response = requests.get(url, params=params)"
   ]
  },
  {
   "cell_type": "code",
   "execution_count": 18,
   "id": "7d588566-804b-434b-8a3b-5304d6d98244",
   "metadata": {},
   "outputs": [
    {
     "data": {
      "text/plain": [
       "'{\"message\":\"Predicted 12 future days.\",\"predicted_series\":{\"2020-03-23T00:00:00\":34486,\"2020-03-24T00:00:00\":46370,\"2020-03-25T00:00:00\":66160,\"2020-03-26T00:00:00\":102048,\"2020-03-27T00:00:00\":156597,\"2020-03-28T00:00:00\":256204,\"2020-03-29T00:00:00\":356122,\"2020-03-30T00:00:00\":401555,\"2020-03-31T00:00:00\":415881,\"2020-04-01T00:00:00\":420455,\"2020-04-02T00:00:00\":422177,\"2020-04-03T00:00:00\":422772}}'"
      ]
     },
     "execution_count": 18,
     "metadata": {},
     "output_type": "execute_result"
    }
   ],
   "source": [
    "response.text"
   ]
  },
  {
   "cell_type": "code",
   "execution_count": 19,
   "id": "d1e7d773-e7e8-40ad-add0-f3e7dd32473e",
   "metadata": {},
   "outputs": [
    {
     "name": "stdout",
     "output_type": "stream",
     "text": [
      "CPU times: user 4.16 ms, sys: 4.18 ms, total: 8.34 ms\n",
      "Wall time: 34.6 ms\n"
     ]
    }
   ],
   "source": [
    "url = 'http://127.0.0.1:8000/'\n",
    "%time response = requests.get(url)"
   ]
  },
  {
   "cell_type": "code",
   "execution_count": 20,
   "id": "a8653375-470b-429f-b0ec-543da1ca2175",
   "metadata": {},
   "outputs": [
    {
     "data": {
      "text/plain": [
       "'{\"status\":\"API running!\"}'"
      ]
     },
     "execution_count": 20,
     "metadata": {},
     "output_type": "execute_result"
    }
   ],
   "source": [
    "response.text"
   ]
  },
  {
   "cell_type": "code",
   "execution_count": null,
   "id": "67142406-1e05-4311-85ce-ca373bb5e693",
   "metadata": {},
   "outputs": [],
   "source": []
  },
  {
   "cell_type": "markdown",
   "id": "b8fe4f78-3ee0-47cd-b476-dee89bfc7c74",
   "metadata": {},
   "source": [
    "# (Local) Docker API"
   ]
  },
  {
   "cell_type": "markdown",
   "id": "457e2dc0-89a8-4578-a2d7-20787da1f501",
   "metadata": {},
   "source": [
    "# On AWS ECS"
   ]
  },
  {
   "cell_type": "code",
   "execution_count": 21,
   "id": "715e8f56-c6a7-458e-a7c9-f6953d439c1d",
   "metadata": {},
   "outputs": [],
   "source": [
    "url = 'http://0.0.0.0:80/predict'\n",
    "params = {\n",
    "\"n_days\": 12,\n",
    "\"seq_length\": 5,\n",
    "\"hidden_size\": 512,\n",
    "\"n_layers\": 2,\n",
    "\"dropout\": 0.5,\n",
    "\"n_epochs\": 300,\n",
    "}"
   ]
  },
  {
   "cell_type": "code",
   "execution_count": 22,
   "id": "b6ffca05-5755-4738-9d58-872ecddd8cfd",
   "metadata": {},
   "outputs": [
    {
     "name": "stdout",
     "output_type": "stream",
     "text": [
      "CPU times: user 5.39 ms, sys: 6.54 ms, total: 11.9 ms\n",
      "Wall time: 806 ms\n"
     ]
    }
   ],
   "source": [
    "%time response = requests.get(url, params=params)"
   ]
  },
  {
   "cell_type": "code",
   "execution_count": 23,
   "id": "ff6eb215-8f70-4f36-ac90-b128679bf329",
   "metadata": {},
   "outputs": [
    {
     "data": {
      "text/plain": [
       "'{\"message\":\"Predicted 12 future days.\",\"predicted_series\":{\"2020-03-23T00:00:00\":34486,\"2020-03-24T00:00:00\":46370,\"2020-03-25T00:00:00\":66160,\"2020-03-26T00:00:00\":102048,\"2020-03-27T00:00:00\":156597,\"2020-03-28T00:00:00\":256204,\"2020-03-29T00:00:00\":356122,\"2020-03-30T00:00:00\":401555,\"2020-03-31T00:00:00\":415881,\"2020-04-01T00:00:00\":420454,\"2020-04-02T00:00:00\":422177,\"2020-04-03T00:00:00\":422772}}'"
      ]
     },
     "execution_count": 23,
     "metadata": {},
     "output_type": "execute_result"
    }
   ],
   "source": [
    "response.text"
   ]
  },
  {
   "cell_type": "code",
   "execution_count": 24,
   "id": "006c3e6c-d78f-4c2f-b73e-a5364dbd8a41",
   "metadata": {},
   "outputs": [
    {
     "data": {
      "text/plain": [
       "'{\"status\":\"API running!\"}'"
      ]
     },
     "execution_count": 24,
     "metadata": {},
     "output_type": "execute_result"
    }
   ],
   "source": [
    "url = 'http://0.0.0.0:80/'\n",
    "requests.get(url).text"
   ]
  },
  {
   "cell_type": "code",
   "execution_count": null,
   "id": "dc1c3cec-f78c-4eca-b074-b289bc836618",
   "metadata": {},
   "outputs": [],
   "source": []
  },
  {
   "cell_type": "markdown",
   "id": "1955ba2e-93ae-4f3f-a43d-62a55499556c",
   "metadata": {},
   "source": [
    "# On SageMaker"
   ]
  },
  {
   "cell_type": "code",
   "execution_count": 4,
   "id": "af169d65-f4ee-4f0d-891a-d98ad54d2cf0",
   "metadata": {},
   "outputs": [],
   "source": [
    "url = 'http://0.0.0.0:80/invocations'\n",
    "params = {\n",
    "\"n_days\": 12,\n",
    "\"seq_length\": 5,\n",
    "\"hidden_size\": 512,\n",
    "\"n_layers\": 2,\n",
    "\"dropout\": 0.5,\n",
    "\"n_epochs\": 300,\n",
    "}"
   ]
  },
  {
   "cell_type": "code",
   "execution_count": 5,
   "id": "6638e406-58c9-463c-a21b-98fd3207db2d",
   "metadata": {
    "scrolled": true
   },
   "outputs": [
    {
     "name": "stdout",
     "output_type": "stream",
     "text": [
      "CPU times: user 10.8 ms, sys: 7.49 ms, total: 18.3 ms\n",
      "Wall time: 481 ms\n",
      "200\n",
      "{'message': 'Predicted 12 future days.', 'predicted_series': {'2020-03-23T00:00:00': 34486, '2020-03-24T00:00:00': 46370, '2020-03-25T00:00:00': 66160, '2020-03-26T00:00:00': 102048, '2020-03-27T00:00:00': 156597, '2020-03-28T00:00:00': 256204, '2020-03-29T00:00:00': 356122, '2020-03-30T00:00:00': 401555, '2020-03-31T00:00:00': 415881, '2020-04-01T00:00:00': 420454, '2020-04-02T00:00:00': 422177, '2020-04-03T00:00:00': 422772}}\n"
     ]
    }
   ],
   "source": [
    "%time response = requests.post(url, json=params)\n",
    "\n",
    "# Print the prediction result\n",
    "print(response.status_code)\n",
    "print(response.json())"
   ]
  },
  {
   "cell_type": "code",
   "execution_count": null,
   "id": "37a6fb52-b070-4a0d-88df-b8fa14a97b06",
   "metadata": {},
   "outputs": [],
   "source": []
  },
  {
   "cell_type": "markdown",
   "id": "753f724e-5f75-4bff-8c0f-82c3e6769269",
   "metadata": {},
   "source": [
    "# (AWS) Docker API"
   ]
  },
  {
   "cell_type": "code",
   "execution_count": 28,
   "id": "4512c207-84a4-4108-9341-9c28d172b519",
   "metadata": {},
   "outputs": [],
   "source": [
    "url = 'http://3.68.221.87/predict' #'http://35.159.202.218/predict'\n",
    "params = {\n",
    "\"n_days\": 12,\n",
    "\"seq_length\": 5,\n",
    "\"hidden_size\": 512,\n",
    "\"n_layers\": 2,\n",
    "\"dropout\": 0.5,\n",
    "\"n_epochs\": 300,\n",
    "}"
   ]
  },
  {
   "cell_type": "code",
   "execution_count": 29,
   "id": "3e935391-f3a6-4d5c-8197-623783257ba8",
   "metadata": {},
   "outputs": [
    {
     "name": "stdout",
     "output_type": "stream",
     "text": [
      "CPU times: user 4.46 ms, sys: 20.8 ms, total: 25.3 ms\n",
      "Wall time: 390 ms\n"
     ]
    }
   ],
   "source": [
    "%time response = requests.get(url, params=params)"
   ]
  },
  {
   "cell_type": "code",
   "execution_count": 30,
   "id": "ab405086-75d8-42d8-be19-5daf3be095e2",
   "metadata": {},
   "outputs": [
    {
     "data": {
      "text/plain": [
       "'{\"message\":\"Predicted 12 future days.\",\"predicted_series\":{\"2020-03-23T00:00:00\":34486,\"2020-03-24T00:00:00\":46370,\"2020-03-25T00:00:00\":66160,\"2020-03-26T00:00:00\":102048,\"2020-03-27T00:00:00\":156597,\"2020-03-28T00:00:00\":256204,\"2020-03-29T00:00:00\":356122,\"2020-03-30T00:00:00\":401555,\"2020-03-31T00:00:00\":415881,\"2020-04-01T00:00:00\":420454,\"2020-04-02T00:00:00\":422177,\"2020-04-03T00:00:00\":422772}}'"
      ]
     },
     "execution_count": 30,
     "metadata": {},
     "output_type": "execute_result"
    }
   ],
   "source": [
    "response.text"
   ]
  },
  {
   "cell_type": "code",
   "execution_count": null,
   "id": "6f312638-a003-422b-b2c7-a8a67b6aef23",
   "metadata": {},
   "outputs": [],
   "source": []
  }
 ],
 "metadata": {
  "kernelspec": {
   "display_name": "Python 3 (ipykernel)",
   "language": "python",
   "name": "python3"
  },
  "language_info": {
   "codemirror_mode": {
    "name": "ipython",
    "version": 3
   },
   "file_extension": ".py",
   "mimetype": "text/x-python",
   "name": "python",
   "nbconvert_exporter": "python",
   "pygments_lexer": "ipython3",
   "version": "3.12.10"
  }
 },
 "nbformat": 4,
 "nbformat_minor": 5
}
